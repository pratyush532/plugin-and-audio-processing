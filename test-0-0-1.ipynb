{
 "cells": [
  {
   "cell_type": "code",
   "execution_count": 1,
   "metadata": {},
   "outputs": [],
   "source": [
    "from pedalboard import Pedalboard, Chorus, Reverb\n",
    "from pedalboard.io import AudioFile\n",
    "\n",
    "# Make a Pedalboard object, containing multiple audio plugins:\n",
    "board = Pedalboard([Chorus(), Reverb(room_size=0.25)])\n",
    "\n",
    "# Open an audio file for reading, just like a regular file:\n",
    "with AudioFile('for_test1.wav') as f:\n",
    "  \n",
    "  # Open an audio file to write to:\n",
    "  with AudioFile('output.wav', 'w', f.samplerate, f.num_channels) as o:\n",
    "  \n",
    "    # Read one second of audio at a time, until the file is empty:\n",
    "    while f.tell() < f.frames:\n",
    "      chunk = f.read(f.samplerate)\n",
    "      \n",
    "      # Run the audio through our pedalboard:\n",
    "      effected = board(chunk, f.samplerate, reset=False)\n",
    "      \n",
    "      # Write the output to our output file:\n",
    "      o.write(effected)"
   ]
  },
  {
   "cell_type": "code",
   "execution_count": 2,
   "metadata": {},
   "outputs": [
    {
     "name": "stdout",
     "output_type": "stream",
     "text": [
      "0: Microsoft Sound Mapper - Input - (Input Channels: 2, Output Channels: 0)\n",
      "1: Microphone Array (Intel® Smart  - (Input Channels: 4, Output Channels: 0)\n",
      "2: Headset (Rockerz 255 Z Plus) - (Input Channels: 1, Output Channels: 0)\n",
      "3: Microsoft Sound Mapper - Output - (Input Channels: 0, Output Channels: 2)\n",
      "4: Headphones (Rockerz 255 Z Plus) - (Input Channels: 0, Output Channels: 8)\n",
      "5: Speakers (Realtek(R) Audio) - (Input Channels: 0, Output Channels: 2)\n",
      "6: Primary Sound Capture Driver - (Input Channels: 2, Output Channels: 0)\n",
      "7: Microphone Array (Intel® Smart Sound Technology for Digital Microphones) - (Input Channels: 4, Output Channels: 0)\n",
      "8: Headset (Rockerz 255 Z Plus) - (Input Channels: 1, Output Channels: 0)\n",
      "9: Primary Sound Driver - (Input Channels: 0, Output Channels: 2)\n",
      "10: Headphones (Rockerz 255 Z Plus) - (Input Channels: 0, Output Channels: 8)\n",
      "11: Speakers (Realtek(R) Audio) - (Input Channels: 0, Output Channels: 2)\n",
      "12: Headphones (Rockerz 255 Z Plus) - (Input Channels: 0, Output Channels: 2)\n",
      "13: Speakers (Realtek(R) Audio) - (Input Channels: 0, Output Channels: 2)\n",
      "14: Headset (Rockerz 255 Z Plus) - (Input Channels: 1, Output Channels: 0)\n",
      "15: Microphone Array (Intel® Smart Sound Technology for Digital Microphones) - (Input Channels: 2, Output Channels: 0)\n",
      "16: Headphones () - (Input Channels: 0, Output Channels: 2)\n",
      "17: Stereo Mix (Realtek HD Audio Stereo input) - (Input Channels: 2, Output Channels: 0)\n",
      "18: Speakers 1 (Realtek HD Audio output with SST) - (Input Channels: 0, Output Channels: 2)\n",
      "19: Speakers 2 (Realtek HD Audio output with SST) - (Input Channels: 0, Output Channels: 2)\n",
      "20: PC Speaker (Realtek HD Audio output with SST) - (Input Channels: 2, Output Channels: 0)\n",
      "21: Microphone (Realtek HD Audio Mic input) - (Input Channels: 2, Output Channels: 0)\n",
      "22: Headphones 1 (Realtek HD Audio 2nd output with SST) - (Input Channels: 0, Output Channels: 2)\n",
      "23: Headphones 2 (Realtek HD Audio 2nd output with SST) - (Input Channels: 0, Output Channels: 2)\n",
      "24: PC Speaker (Realtek HD Audio 2nd output with SST) - (Input Channels: 2, Output Channels: 0)\n",
      "25: Output 1 (@System32\\drivers\\bthhfenum.sys,#2;%1 Hands-Free%0\n",
      ";(Rockerz 255 Z Plus)) - (Input Channels: 0, Output Channels: 1)\n",
      "26: Output 2 (@System32\\drivers\\bthhfenum.sys,#2;%1 Hands-Free%0\n",
      ";(Rockerz 255 Z Plus)) - (Input Channels: 0, Output Channels: 8)\n",
      "27: Input (@System32\\drivers\\bthhfenum.sys,#2;%1 Hands-Free%0\n",
      ";(Rockerz 255 Z Plus)) - (Input Channels: 1, Output Channels: 0)\n",
      "28: Output 3 (@System32\\drivers\\bthhfenum.sys,#2;%1 Hands-Free%0\n",
      ";(Rockerz 255 Z Plus)) - (Input Channels: 0, Output Channels: 1)\n",
      "29: Output 1 (@System32\\drivers\\btha2dp.sys,#1;%1%0\n",
      ";(Rockerz 255 Z Plus)) - (Input Channels: 0, Output Channels: 2)\n",
      "30: Output 2 (@System32\\drivers\\btha2dp.sys,#1;%1%0\n",
      ";(Rockerz 255 Z Plus)) - (Input Channels: 0, Output Channels: 8)\n",
      "31: Input (@System32\\drivers\\btha2dp.sys,#1;%1%0\n",
      ";(Rockerz 255 Z Plus)) - (Input Channels: 2, Output Channels: 0)\n",
      "32: Headphones (@System32\\drivers\\btha2dp.sys,#1;%1%0\n",
      ";(Rockerz 255 Z Plus)) - (Input Channels: 0, Output Channels: 2)\n",
      "33: Headset 1 (@System32\\drivers\\bthhfenum.sys,#2;%1 Hands-Free%0\n",
      ";(Rockerz 255 Z Plus)) - (Input Channels: 1, Output Channels: 0)\n",
      "34: Headset 2 (@System32\\drivers\\bthhfenum.sys,#2;%1 Hands-Free%0\n",
      ";(Rockerz 255 Z Plus)) - (Input Channels: 1, Output Channels: 0)\n",
      "35: Microphone Array 1 () - (Input Channels: 2, Output Channels: 0)\n",
      "36: Microphone Array 2 () - (Input Channels: 2, Output Channels: 0)\n",
      "37: Microphone Array 3 () - (Input Channels: 4, Output Channels: 0)\n"
     ]
    }
   ],
   "source": [
    "import sounddevice as sd\n",
    "\n",
    "# List all audio devices\n",
    "devices = sd.query_devices()\n",
    "\n",
    "# Print devices in a readable format\n",
    "for i, device in enumerate(devices):\n",
    "    print(f\"{i}: {device['name']} - (Input Channels: {device['max_input_channels']}, Output Channels: {device['max_output_channels']})\")\n"
   ]
  },
  {
   "cell_type": "code",
   "execution_count": 3,
   "metadata": {},
   "outputs": [
    {
     "ename": "ValueError",
     "evalue": "No such device: Headset (Rockerz 255 Z Plus)",
     "output_type": "error",
     "traceback": [
      "\u001b[1;31m---------------------------------------------------------------------------\u001b[0m",
      "\u001b[1;31mValueError\u001b[0m                                Traceback (most recent call last)",
      "Cell \u001b[1;32mIn[3], line 5\u001b[0m\n\u001b[0;32m      2\u001b[0m \u001b[38;5;28;01mfrom\u001b[39;00m\u001b[38;5;250m \u001b[39m\u001b[38;5;21;01mpedalboard\u001b[39;00m\u001b[38;5;21;01m.\u001b[39;00m\u001b[38;5;21;01mio\u001b[39;00m\u001b[38;5;250m \u001b[39m\u001b[38;5;28;01mimport\u001b[39;00m AudioStream\n\u001b[0;32m      4\u001b[0m \u001b[38;5;66;03m# Open up an audio stream:\u001b[39;00m\n\u001b[1;32m----> 5\u001b[0m \u001b[38;5;28;01mwith\u001b[39;00m \u001b[43mAudioStream\u001b[49m\u001b[43m(\u001b[49m\n\u001b[0;32m      6\u001b[0m \u001b[43m  \u001b[49m\u001b[43minput_device_name\u001b[49m\u001b[38;5;241;43m=\u001b[39;49m\u001b[38;5;124;43m\"\u001b[39;49m\u001b[38;5;124;43mHeadset (Rockerz 255 Z Plus)\u001b[39;49m\u001b[38;5;124;43m\"\u001b[39;49m\u001b[43m,\u001b[49m\u001b[43m  \u001b[49m\u001b[38;5;66;43;03m# Guitar interface\u001b[39;49;00m\n\u001b[0;32m      7\u001b[0m \u001b[43m  \u001b[49m\u001b[43moutput_device_name\u001b[49m\u001b[38;5;241;43m=\u001b[39;49m\u001b[38;5;124;43m\"\u001b[39;49m\u001b[38;5;124;43mHeadset (Rockerz 255 Z Plus)\u001b[39;49m\u001b[38;5;124;43m\"\u001b[39;49m\n\u001b[0;32m      8\u001b[0m \u001b[43m)\u001b[49m \u001b[38;5;28;01mas\u001b[39;00m stream:\n\u001b[0;32m      9\u001b[0m   \u001b[38;5;66;03m# Audio is now streaming through this pedalboard and out of your speakers!\u001b[39;00m\n\u001b[0;32m     10\u001b[0m   stream\u001b[38;5;241m.\u001b[39mplugins \u001b[38;5;241m=\u001b[39m Pedalboard([\n\u001b[0;32m     11\u001b[0m       Compressor(threshold_db\u001b[38;5;241m=\u001b[39m\u001b[38;5;241m-\u001b[39m\u001b[38;5;241m50\u001b[39m, ratio\u001b[38;5;241m=\u001b[39m\u001b[38;5;241m25\u001b[39m),\n\u001b[0;32m     12\u001b[0m       Gain(gain_db\u001b[38;5;241m=\u001b[39m\u001b[38;5;241m30\u001b[39m),\n\u001b[1;32m   (...)\u001b[0m\n\u001b[0;32m     15\u001b[0m       Reverb(room_size\u001b[38;5;241m=\u001b[39m\u001b[38;5;241m0.25\u001b[39m),\n\u001b[0;32m     16\u001b[0m   ])\n\u001b[0;32m     17\u001b[0m   \u001b[38;5;28minput\u001b[39m(\u001b[38;5;124m\"\u001b[39m\u001b[38;5;124mPress enter to stop streaming...\u001b[39m\u001b[38;5;124m\"\u001b[39m)\n",
      "\u001b[1;31mValueError\u001b[0m: No such device: Headset (Rockerz 255 Z Plus)"
     ]
    }
   ],
   "source": [
    "from pedalboard import Pedalboard, Chorus, Compressor, Delay, Gain, Reverb, Phaser\n",
    "from pedalboard.io import AudioStream\n",
    "\n",
    "# Open up an audio stream:\n",
    "with AudioStream(\n",
    "  input_device_name=\"Headset (Rockerz 255 Z Plus)\",  # Guitar interface\n",
    "  output_device_name=\"Headphones (Rockerz 255 Z Plus)\"\n",
    ") as stream:\n",
    "  # Audio is now streaming through this pedalboard and out of your speakers!\n",
    "  stream.plugins = Pedalboard([\n",
    "      Compressor(threshold_db=-50, ratio=25),\n",
    "      Gain(gain_db=30),\n",
    "      Chorus(),\n",
    "      Phaser(),\n",
    "      Reverb(room_size=0.25),\n",
    "  ])\n",
    "  input(\"Press enter to stop streaming...\")\n",
    "\n",
    "# The live AudioStream is now closed, and audio has stopped."
   ]
  }
 ],
 "metadata": {
  "kernelspec": {
   "display_name": "venv-music",
   "language": "python",
   "name": "python3"
  },
  "language_info": {
   "codemirror_mode": {
    "name": "ipython",
    "version": 3
   },
   "file_extension": ".py",
   "mimetype": "text/x-python",
   "name": "python",
   "nbconvert_exporter": "python",
   "pygments_lexer": "ipython3",
   "version": "3.11.9"
  }
 },
 "nbformat": 4,
 "nbformat_minor": 2
}
